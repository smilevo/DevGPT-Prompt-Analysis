{
 "cells": [
  {
   "cell_type": "code",
   "execution_count": 1,
   "id": "f9f74f4b-04d1-4842-9914-8f2616166830",
   "metadata": {
    "execution": {
     "iopub.execute_input": "2024-05-03T05:29:12.667748Z",
     "iopub.status.busy": "2024-05-03T05:29:12.666770Z",
     "iopub.status.idle": "2024-05-03T05:29:13.255031Z",
     "shell.execute_reply": "2024-05-03T05:29:13.254728Z",
     "shell.execute_reply.started": "2024-05-03T05:29:12.667712Z"
    }
   },
   "outputs": [],
   "source": [
    "import pandas as pd\n",
    "import os\n",
    "from langdetect import detect\n",
    "import numpy as np\n",
    "from collections import Counter"
   ]
  },
  {
   "cell_type": "code",
   "execution_count": 2,
   "id": "aaf7d0a9-707b-4c64-9948-f73ef23c3312",
   "metadata": {
    "execution": {
     "iopub.execute_input": "2024-05-03T05:29:13.255587Z",
     "iopub.status.busy": "2024-05-03T05:29:13.255443Z",
     "iopub.status.idle": "2024-05-03T05:29:20.198699Z",
     "shell.execute_reply": "2024-05-03T05:29:20.198328Z",
     "shell.execute_reply.started": "2024-05-03T05:29:13.255577Z"
    }
   },
   "outputs": [
    {
     "name": "stdout",
     "output_type": "stream",
     "text": [
      "./DevGPT/snapshot_20230803/20230803_095317_commit_sharings.json\n",
      "./DevGPT/snapshot_20230803/20230803_103605_file_sharings.json\n",
      "./DevGPT/snapshot_20230824/20230824_102435_commit_sharings.json\n",
      "./DevGPT/snapshot_20230824/20230824_111114_file_sharings.json\n",
      "./DevGPT/snapshot_20230914/20230914_104122_file_sharings.json\n",
      "./DevGPT/snapshot_20230914/20230914_083202_commit_sharings.json\n",
      "./DevGPT/snapshot_20230810/20230810_124807_commit_sharings.json\n",
      "./DevGPT/snapshot_20230810/20230810_133121_file_sharings.json\n",
      "./DevGPT/snapshot_20230831/20230831_063412_commit_sharings.json\n",
      "./DevGPT/snapshot_20230831/20230831_072722_file_sharings.json\n",
      "./DevGPT/snapshot_20231012/20231012_230826_commit_sharings.json\n",
      "./DevGPT/snapshot_20231012/20231012_234250_file_sharings.json\n",
      "./DevGPT/snapshot_20230727/20230727_200102_file_sharings.json\n",
      "./DevGPT/snapshot_20230727/20230727_200003_commit_sharings.json\n",
      "./DevGPT/snapshot_20230817/20230817_151344_file_sharings.json\n",
      "./DevGPT/snapshot_20230817/20230817_131244_commit_sharings.json\n",
      "./DevGPT/snapshot_20230907/20230907_110036_commit_sharings.json\n",
      "./DevGPT/snapshot_20230907/20230907_121304_file_sharings.json\n"
     ]
    }
   ],
   "source": [
    "parent_folder = \"./DevGPT\"\n",
    "\n",
    "folder_names = [\"snapshot_20230803\", \"snapshot_20230824\", \"snapshot_20230914\",\n",
    "                \"snapshot_20230810\", \"snapshot_20230831\", \"snapshot_20231012\",\n",
    "                \"snapshot_20230727\", \"snapshot_20230817\", \"snapshot_20230907\"]\n",
    "\n",
    "# Define the patterns to identify different types of files\n",
    "patterns = [\"_commit_sharings.json\", \"_file_sharings.json\"]\n",
    "\n",
    "# Initialize dataframes for each type of file\n",
    "commit_sharings_df = pd.DataFrame()\n",
    "file_sharings_df = pd.DataFrame()\n",
    "\n",
    "# Iterate through folders and files\n",
    "for folder_name in folder_names:\n",
    "    full_folder_path = os.path.join(parent_folder, folder_name)\n",
    "    for file_name in os.listdir(full_folder_path):\n",
    "        file_path = os.path.join(full_folder_path, file_name)\n",
    "        \n",
    "        # Check if the file name contains any of the specified patterns\n",
    "        for pattern in patterns:\n",
    "            if pattern in file_name:\n",
    "                # Create custom location string for reading CSV files\n",
    "                custom_location = f\"{file_path}\"\n",
    "                print(custom_location)\n",
    "                # Read CSV file into a dataframe\n",
    "                df = pd.read_json(custom_location)\n",
    "                \n",
    "                # Assign the dataframe to the corresponding variable based on the pattern\n",
    "                if \"_commit_sharings.json\" in pattern:\n",
    "                    commit_sharings_df = pd.concat([commit_sharings_df, df], ignore_index=True)\n",
    "                elif \"_file_sharings.json\" in pattern:\n",
    "                    file_sharings_df = pd.concat([file_sharings_df, df], ignore_index=True)\n"
   ]
  },
  {
   "cell_type": "code",
   "execution_count": 3,
   "id": "f6ce43da-3752-4487-8f7b-8d7d275d17dd",
   "metadata": {
    "execution": {
     "iopub.execute_input": "2024-05-03T05:29:20.199428Z",
     "iopub.status.busy": "2024-05-03T05:29:20.199269Z",
     "iopub.status.idle": "2024-05-03T05:29:20.202264Z",
     "shell.execute_reply": "2024-05-03T05:29:20.201769Z",
     "shell.execute_reply.started": "2024-05-03T05:29:20.199406Z"
    }
   },
   "outputs": [],
   "source": [
    "def extract_json_to_columns(df):\n",
    "    df = pd.DataFrame(df.Sources.tolist())\n",
    "    df = pd.concat([df, pd.DataFrame(df.ChatgptSharing.str[0].tolist()).add_prefix(\"CGS_\")], axis=1)\n",
    "    return df"
   ]
  },
  {
   "cell_type": "code",
   "execution_count": 4,
   "id": "0c873db0-b237-4941-82c0-661ed432fe65",
   "metadata": {
    "execution": {
     "iopub.execute_input": "2024-05-03T05:29:20.204783Z",
     "iopub.status.busy": "2024-05-03T05:29:20.204628Z",
     "iopub.status.idle": "2024-05-03T05:29:20.283937Z",
     "shell.execute_reply": "2024-05-03T05:29:20.283618Z",
     "shell.execute_reply.started": "2024-05-03T05:29:20.204767Z"
    }
   },
   "outputs": [],
   "source": [
    "commit_sharings_df = extract_json_to_columns(commit_sharings_df)\n",
    "file_sharings_df = extract_json_to_columns(file_sharings_df)"
   ]
  },
  {
   "cell_type": "markdown",
   "id": "d1066c5a-aa73-480b-a021-6f5ddbc47908",
   "metadata": {},
   "source": [
    "### Remove Null values from Conversations"
   ]
  },
  {
   "cell_type": "code",
   "execution_count": 5,
   "id": "01f31301-3cc3-4f7a-8e4f-a93945e0bb63",
   "metadata": {
    "execution": {
     "iopub.execute_input": "2024-05-03T05:29:20.284503Z",
     "iopub.status.busy": "2024-05-03T05:29:20.284394Z",
     "iopub.status.idle": "2024-05-03T05:29:20.298684Z",
     "shell.execute_reply": "2024-05-03T05:29:20.298230Z",
     "shell.execute_reply.started": "2024-05-03T05:29:20.284493Z"
    }
   },
   "outputs": [],
   "source": [
    "commit_sharings_df['CGS_Conversations'] = commit_sharings_df.CGS_Conversations.fillna('').apply(list)\n",
    "file_sharings_df['CGS_Conversations'] = file_sharings_df.CGS_Conversations.fillna('').apply(list)"
   ]
  },
  {
   "cell_type": "markdown",
   "id": "0bc93d43-3158-4c20-a26b-53bf2347897e",
   "metadata": {},
   "source": [
    "### Extract Prompts and Answers from Conversations"
   ]
  },
  {
   "cell_type": "code",
   "execution_count": 6,
   "id": "92f90ca5-f137-498a-a70c-25dfc1c3fd04",
   "metadata": {
    "execution": {
     "iopub.execute_input": "2024-05-03T05:29:20.299703Z",
     "iopub.status.busy": "2024-05-03T05:29:20.299496Z",
     "iopub.status.idle": "2024-05-03T05:29:20.302773Z",
     "shell.execute_reply": "2024-05-03T05:29:20.302225Z",
     "shell.execute_reply.started": "2024-05-03T05:29:20.299690Z"
    }
   },
   "outputs": [],
   "source": [
    "# Function to extract Prompts and Answers\n",
    "def extract_prompts_and_answers(conversations):\n",
    "    prompts = []\n",
    "    answers = []\n",
    "\n",
    "    if conversations:\n",
    "        for i, conv in enumerate(conversations):\n",
    "                prompt = conv.get(\"Prompt\", \"\")\n",
    "                answer = conv.get(\"Answer\", \"\")\n",
    "                prompts.append(prompt)\n",
    "                answers.append(answer)\n",
    "    \n",
    "    conv_len = len(prompts) + len(answers)\n",
    "    return pd.Series({\"Prompts\": prompts, \"Answers\": answers, \"Conversation_Length\": conv_len})"
   ]
  },
  {
   "cell_type": "markdown",
   "id": "ae28b468-7aed-4825-9f93-740bfc374601",
   "metadata": {},
   "source": [
    "##### Apply on all dataframes"
   ]
  },
  {
   "cell_type": "code",
   "execution_count": 8,
   "id": "c90fba21-4432-4307-82df-47c7515a2a4f",
   "metadata": {
    "execution": {
     "iopub.execute_input": "2024-05-03T05:29:20.306469Z",
     "iopub.status.busy": "2024-05-03T05:29:20.306317Z",
     "iopub.status.idle": "2024-05-03T05:29:21.545807Z",
     "shell.execute_reply": "2024-05-03T05:29:21.545449Z",
     "shell.execute_reply.started": "2024-05-03T05:29:20.306458Z"
    }
   },
   "outputs": [],
   "source": [
    "commit_sharings_df[[\"Prompts\", \"Answers\", \"Conversation_Length\"]] = commit_sharings_df.CGS_Conversations.apply(extract_prompts_and_answers)\n",
    "file_sharings_df[[\"Prompts\", \"Answers\", \"Conversation_Length\"]] = file_sharings_df.CGS_Conversations.apply(extract_prompts_and_answers)"
   ]
  },
  {
   "cell_type": "markdown",
   "id": "d89775b9-8896-4dd0-ad99-781834be5030",
   "metadata": {},
   "source": [
    "### Duplicate Records Cleaning"
   ]
  },
  {
   "cell_type": "code",
   "execution_count": 9,
   "id": "0efd822f-6cee-48ed-ac9b-ba2633755e24",
   "metadata": {
    "execution": {
     "iopub.execute_input": "2024-05-03T05:29:21.546461Z",
     "iopub.status.busy": "2024-05-03T05:29:21.546372Z",
     "iopub.status.idle": "2024-05-03T05:29:21.549015Z",
     "shell.execute_reply": "2024-05-03T05:29:21.548727Z",
     "shell.execute_reply.started": "2024-05-03T05:29:21.546451Z"
    }
   },
   "outputs": [],
   "source": [
    "def dedupe_data(data, identifier='CGS_URL'):\n",
    "    return data.loc[data.groupby(identifier).Conversation_Length.idxmax()]"
   ]
  },
  {
   "cell_type": "code",
   "execution_count": 10,
   "id": "fe8e3d0b-0e4d-418d-b9a5-a44fee190617",
   "metadata": {
    "execution": {
     "iopub.execute_input": "2024-05-03T05:29:21.549486Z",
     "iopub.status.busy": "2024-05-03T05:29:21.549398Z",
     "iopub.status.idle": "2024-05-03T05:29:21.612434Z",
     "shell.execute_reply": "2024-05-03T05:29:21.612125Z",
     "shell.execute_reply.started": "2024-05-03T05:29:21.549477Z"
    }
   },
   "outputs": [],
   "source": [
    "commit_sharings_final_df = dedupe_data(commit_sharings_df)\n",
    "file_sharings_final_df = dedupe_data(file_sharings_df)"
   ]
  },
  {
   "cell_type": "code",
   "execution_count": 11,
   "id": "5e48f489-d06b-4f7d-aa4e-bbe66d45422a",
   "metadata": {
    "execution": {
     "iopub.execute_input": "2024-05-03T05:29:21.613092Z",
     "iopub.status.busy": "2024-05-03T05:29:21.612964Z",
     "iopub.status.idle": "2024-05-03T05:29:21.616233Z",
     "shell.execute_reply": "2024-05-03T05:29:21.615829Z",
     "shell.execute_reply.started": "2024-05-03T05:29:21.613078Z"
    }
   },
   "outputs": [
    {
     "name": "stdout",
     "output_type": "stream",
     "text": [
      "commit_sharings - Original: (3245, 25), Final: (672, 25)\n",
      "file_sharings - Original: (8664, 29), Final: (1668, 29)\n"
     ]
    }
   ],
   "source": [
    "print(f\"commit_sharings - Original: {commit_sharings_df.shape}, Final: {commit_sharings_final_df.shape}\")\n",
    "print(f\"file_sharings - Original: {file_sharings_df.shape}, Final: {file_sharings_final_df.shape}\")"
   ]
  },
  {
   "cell_type": "markdown",
   "id": "685422b6-cce9-47d2-99fb-9e81cb18dac2",
   "metadata": {},
   "source": [
    "### Make final Dataframe"
   ]
  },
  {
   "cell_type": "code",
   "execution_count": 12,
   "id": "6b417200-6e40-4cd2-947c-993216cd6df5",
   "metadata": {
    "execution": {
     "iopub.execute_input": "2024-05-03T05:29:21.616977Z",
     "iopub.status.busy": "2024-05-03T05:29:21.616863Z",
     "iopub.status.idle": "2024-05-03T05:29:21.619299Z",
     "shell.execute_reply": "2024-05-03T05:29:21.618753Z",
     "shell.execute_reply.started": "2024-05-03T05:29:21.616967Z"
    }
   },
   "outputs": [],
   "source": [
    "columns_to_keep = [\n",
    "    'Type', 'RepoLanguage', 'CGS_URL', 'CGS_Status', 'CGS_DateOfConversation', 'CGS_DateOfAccess', \n",
    "    'CGS_Title', 'CGS_NumberOfPrompts', 'CGS_TokensOfPrompts', \n",
    "    'CGS_TokensOfAnswers', 'CGS_Model', \n",
    "    'Prompts', 'Answers', 'Conversation_Length', 'CGS_Conversations'\n",
    "]"
   ]
  },
  {
   "cell_type": "code",
   "execution_count": 13,
   "id": "1ea0d929-f93a-48af-97be-e5fe843c69f7",
   "metadata": {
    "execution": {
     "iopub.execute_input": "2024-05-03T05:29:21.622903Z",
     "iopub.status.busy": "2024-05-03T05:29:21.622741Z",
     "iopub.status.idle": "2024-05-03T05:29:21.628137Z",
     "shell.execute_reply": "2024-05-03T05:29:21.627651Z",
     "shell.execute_reply.started": "2024-05-03T05:29:21.622894Z"
    }
   },
   "outputs": [],
   "source": [
    "final_df = pd.concat(\n",
    "    [\n",
    "     commit_sharings_final_df[columns_to_keep], \n",
    "     file_sharings_final_df[columns_to_keep]\n",
    "    ], \n",
    "    axis=0,\n",
    "    ignore_index=True,\n",
    "    \n",
    ")"
   ]
  },
  {
   "cell_type": "code",
   "execution_count": 14,
   "id": "57b2ee26-bd89-48fd-a371-c9369b612965",
   "metadata": {
    "execution": {
     "iopub.execute_input": "2024-05-03T05:29:21.628834Z",
     "iopub.status.busy": "2024-05-03T05:29:21.628735Z",
     "iopub.status.idle": "2024-05-03T05:29:21.633036Z",
     "shell.execute_reply": "2024-05-03T05:29:21.632732Z",
     "shell.execute_reply.started": "2024-05-03T05:29:21.628824Z"
    }
   },
   "outputs": [],
   "source": [
    "final_df = final_df.drop_duplicates(subset=\"CGS_URL\", keep=\"first\")"
   ]
  },
  {
   "cell_type": "code",
   "execution_count": 15,
   "id": "c0ccf057-26ca-49fc-83f8-a62a60e0b590",
   "metadata": {
    "execution": {
     "iopub.execute_input": "2024-05-03T05:29:21.633864Z",
     "iopub.status.busy": "2024-05-03T05:29:21.633713Z",
     "iopub.status.idle": "2024-05-03T05:29:21.637862Z",
     "shell.execute_reply": "2024-05-03T05:29:21.637338Z",
     "shell.execute_reply.started": "2024-05-03T05:29:21.633848Z"
    },
    "tags": []
   },
   "outputs": [],
   "source": [
    "final_df.drop(final_df[final_df.Conversation_Length == 0].index, inplace=True)"
   ]
  },
  {
   "cell_type": "code",
   "execution_count": 16,
   "id": "a9f2bb0c-24e9-4ef6-bf3e-675330c8fa9f",
   "metadata": {
    "execution": {
     "iopub.execute_input": "2024-05-03T05:29:21.638568Z",
     "iopub.status.busy": "2024-05-03T05:29:21.638452Z",
     "iopub.status.idle": "2024-05-03T05:29:21.640999Z",
     "shell.execute_reply": "2024-05-03T05:29:21.640676Z",
     "shell.execute_reply.started": "2024-05-03T05:29:21.638558Z"
    }
   },
   "outputs": [],
   "source": [
    "def detect_language(text):\n",
    "    text = ' '.join(text)\n",
    "    try:\n",
    "        return detect(text)\n",
    "    except:\n",
    "        return 'Error'"
   ]
  },
  {
   "cell_type": "code",
   "execution_count": 17,
   "id": "1b8deb76-fa5b-49a6-9bd6-2392e37e0ab6",
   "metadata": {
    "execution": {
     "iopub.execute_input": "2024-05-03T05:29:21.641799Z",
     "iopub.status.busy": "2024-05-03T05:29:21.641686Z",
     "iopub.status.idle": "2024-05-03T05:29:33.717083Z",
     "shell.execute_reply": "2024-05-03T05:29:33.716640Z",
     "shell.execute_reply.started": "2024-05-03T05:29:21.641789Z"
    }
   },
   "outputs": [],
   "source": [
    "final_df['language'] = final_df['Prompts'].apply(detect_language)"
   ]
  },
  {
   "cell_type": "code",
   "execution_count": 18,
   "id": "c3b12027-4d9b-4da4-9db8-bfeaf352a795",
   "metadata": {
    "execution": {
     "iopub.execute_input": "2024-05-03T05:29:33.717699Z",
     "iopub.status.busy": "2024-05-03T05:29:33.717590Z",
     "iopub.status.idle": "2024-05-03T05:29:33.721074Z",
     "shell.execute_reply": "2024-05-03T05:29:33.720818Z",
     "shell.execute_reply.started": "2024-05-03T05:29:33.717690Z"
    }
   },
   "outputs": [],
   "source": [
    "final_df = final_df[final_df.language == 'en']"
   ]
  },
  {
   "cell_type": "code",
   "execution_count": 19,
   "id": "38f8a2be-489a-4a1a-a271-0ddeadab158c",
   "metadata": {
    "execution": {
     "iopub.execute_input": "2024-05-03T05:29:33.721550Z",
     "iopub.status.busy": "2024-05-03T05:29:33.721453Z",
     "iopub.status.idle": "2024-05-03T05:29:33.735235Z",
     "shell.execute_reply": "2024-05-03T05:29:33.734819Z",
     "shell.execute_reply.started": "2024-05-03T05:29:33.721540Z"
    }
   },
   "outputs": [
    {
     "data": {
      "text/html": [
       "<div>\n",
       "<style scoped>\n",
       "    .dataframe tbody tr th:only-of-type {\n",
       "        vertical-align: middle;\n",
       "    }\n",
       "\n",
       "    .dataframe tbody tr th {\n",
       "        vertical-align: top;\n",
       "    }\n",
       "\n",
       "    .dataframe thead th {\n",
       "        text-align: right;\n",
       "    }\n",
       "</style>\n",
       "<table border=\"1\" class=\"dataframe\">\n",
       "  <thead>\n",
       "    <tr style=\"text-align: right;\">\n",
       "      <th></th>\n",
       "      <th>Type</th>\n",
       "      <th>RepoLanguage</th>\n",
       "      <th>CGS_URL</th>\n",
       "      <th>CGS_Status</th>\n",
       "      <th>CGS_DateOfConversation</th>\n",
       "      <th>CGS_DateOfAccess</th>\n",
       "      <th>CGS_Title</th>\n",
       "      <th>CGS_NumberOfPrompts</th>\n",
       "      <th>CGS_TokensOfPrompts</th>\n",
       "      <th>CGS_TokensOfAnswers</th>\n",
       "      <th>CGS_Model</th>\n",
       "      <th>Prompts</th>\n",
       "      <th>Answers</th>\n",
       "      <th>Conversation_Length</th>\n",
       "      <th>CGS_Conversations</th>\n",
       "      <th>language</th>\n",
       "    </tr>\n",
       "  </thead>\n",
       "  <tbody>\n",
       "    <tr>\n",
       "      <th>0</th>\n",
       "      <td>commit</td>\n",
       "      <td>CSS</td>\n",
       "      <td>https://chat.openai.com/share/0009359a-f33c-4d...</td>\n",
       "      <td>200</td>\n",
       "      <td>August 8, 2023</td>\n",
       "      <td>2023-08-24 10:23:21.867744</td>\n",
       "      <td>Replace Getting Started section.</td>\n",
       "      <td>2.0</td>\n",
       "      <td>841.0</td>\n",
       "      <td>880.0</td>\n",
       "      <td>Default</td>\n",
       "      <td>[# Working set\\n\\ndocs/README.md:\\n```\\nWarn: ...</td>\n",
       "      <td>[[CODE_BLOCK_0], Certainly! Here's the updated...</td>\n",
       "      <td>4</td>\n",
       "      <td>[{'Prompt': '# Working set\n",
       "\n",
       "docs/README.md:\n",
       "``...</td>\n",
       "      <td>en</td>\n",
       "    </tr>\n",
       "    <tr>\n",
       "      <th>1</th>\n",
       "      <td>commit</td>\n",
       "      <td>CSS</td>\n",
       "      <td>https://chat.openai.com/share/002ec31f-83bd-44...</td>\n",
       "      <td>200</td>\n",
       "      <td>August 4, 2023</td>\n",
       "      <td>2023-09-14 08:22:00.979886</td>\n",
       "      <td>Implement Clipboard Fallback.</td>\n",
       "      <td>1.0</td>\n",
       "      <td>449.0</td>\n",
       "      <td>420.0</td>\n",
       "      <td>Default</td>\n",
       "      <td>[# Working set\\n\\nsrc/frontend/components/Exec...</td>\n",
       "      <td>[[CODE_BLOCK_0]]</td>\n",
       "      <td>2</td>\n",
       "      <td>[{'Prompt': '# Working set\n",
       "\n",
       "src/frontend/compo...</td>\n",
       "      <td>en</td>\n",
       "    </tr>\n",
       "    <tr>\n",
       "      <th>2</th>\n",
       "      <td>commit</td>\n",
       "      <td>CSS</td>\n",
       "      <td>https://chat.openai.com/share/006570dd-ce57-48...</td>\n",
       "      <td>200</td>\n",
       "      <td>August 21, 2023</td>\n",
       "      <td>2023-08-24 10:21:31.568574</td>\n",
       "      <td>Refine Gitignore Behavior</td>\n",
       "      <td>1.0</td>\n",
       "      <td>731.0</td>\n",
       "      <td>262.0</td>\n",
       "      <td>Default</td>\n",
       "      <td>[You are Junior, an AI system aiding developer...</td>\n",
       "      <td>[[CODE_BLOCK_0]]</td>\n",
       "      <td>2</td>\n",
       "      <td>[{'Prompt': 'You are Junior, an AI system aidi...</td>\n",
       "      <td>en</td>\n",
       "    </tr>\n",
       "    <tr>\n",
       "      <th>3</th>\n",
       "      <td>commit</td>\n",
       "      <td>CSS</td>\n",
       "      <td>https://chat.openai.com/share/008ea3c2-4cf5-4f...</td>\n",
       "      <td>200</td>\n",
       "      <td>July 21, 2023</td>\n",
       "      <td>2023-08-03 09:49:45.851175</td>\n",
       "      <td>Create execute endpoint.</td>\n",
       "      <td>2.0</td>\n",
       "      <td>653.0</td>\n",
       "      <td>808.0</td>\n",
       "      <td></td>\n",
       "      <td>[# Working set\\n\\nsrc/execute/executeAndForwar...</td>\n",
       "      <td>[[CODE_BLOCK_0], I apologize for the confusion...</td>\n",
       "      <td>4</td>\n",
       "      <td>[{'Prompt': '# Working set\n",
       "\n",
       "src/execute/execut...</td>\n",
       "      <td>en</td>\n",
       "    </tr>\n",
       "    <tr>\n",
       "      <th>4</th>\n",
       "      <td>commit</td>\n",
       "      <td>CSS</td>\n",
       "      <td>https://chat.openai.com/share/00b111a5-00b5-46...</td>\n",
       "      <td>200</td>\n",
       "      <td>August 4, 2023</td>\n",
       "      <td>2023-08-24 10:23:56.168934</td>\n",
       "      <td>Update div styling App.jsx.</td>\n",
       "      <td>1.0</td>\n",
       "      <td>516.0</td>\n",
       "      <td>358.0</td>\n",
       "      <td>Default</td>\n",
       "      <td>[# Working set\\n\\nsrc/frontend/App.jsx:\\n```\\n...</td>\n",
       "      <td>[[CODE_BLOCK_0]]</td>\n",
       "      <td>2</td>\n",
       "      <td>[{'Prompt': '# Working set\n",
       "\n",
       "src/frontend/App.j...</td>\n",
       "      <td>en</td>\n",
       "    </tr>\n",
       "  </tbody>\n",
       "</table>\n",
       "</div>"
      ],
      "text/plain": [
       "     Type RepoLanguage                                            CGS_URL  \\\n",
       "0  commit          CSS  https://chat.openai.com/share/0009359a-f33c-4d...   \n",
       "1  commit          CSS  https://chat.openai.com/share/002ec31f-83bd-44...   \n",
       "2  commit          CSS  https://chat.openai.com/share/006570dd-ce57-48...   \n",
       "3  commit          CSS  https://chat.openai.com/share/008ea3c2-4cf5-4f...   \n",
       "4  commit          CSS  https://chat.openai.com/share/00b111a5-00b5-46...   \n",
       "\n",
       "   CGS_Status CGS_DateOfConversation            CGS_DateOfAccess  \\\n",
       "0         200         August 8, 2023  2023-08-24 10:23:21.867744   \n",
       "1         200         August 4, 2023  2023-09-14 08:22:00.979886   \n",
       "2         200        August 21, 2023  2023-08-24 10:21:31.568574   \n",
       "3         200          July 21, 2023  2023-08-03 09:49:45.851175   \n",
       "4         200         August 4, 2023  2023-08-24 10:23:56.168934   \n",
       "\n",
       "                          CGS_Title  CGS_NumberOfPrompts  CGS_TokensOfPrompts  \\\n",
       "0  Replace Getting Started section.                  2.0                841.0   \n",
       "1     Implement Clipboard Fallback.                  1.0                449.0   \n",
       "2         Refine Gitignore Behavior                  1.0                731.0   \n",
       "3          Create execute endpoint.                  2.0                653.0   \n",
       "4       Update div styling App.jsx.                  1.0                516.0   \n",
       "\n",
       "   CGS_TokensOfAnswers CGS_Model  \\\n",
       "0                880.0   Default   \n",
       "1                420.0   Default   \n",
       "2                262.0   Default   \n",
       "3                808.0             \n",
       "4                358.0   Default   \n",
       "\n",
       "                                             Prompts  \\\n",
       "0  [# Working set\\n\\ndocs/README.md:\\n```\\nWarn: ...   \n",
       "1  [# Working set\\n\\nsrc/frontend/components/Exec...   \n",
       "2  [You are Junior, an AI system aiding developer...   \n",
       "3  [# Working set\\n\\nsrc/execute/executeAndForwar...   \n",
       "4  [# Working set\\n\\nsrc/frontend/App.jsx:\\n```\\n...   \n",
       "\n",
       "                                             Answers  Conversation_Length  \\\n",
       "0  [[CODE_BLOCK_0], Certainly! Here's the updated...                    4   \n",
       "1                                   [[CODE_BLOCK_0]]                    2   \n",
       "2                                   [[CODE_BLOCK_0]]                    2   \n",
       "3  [[CODE_BLOCK_0], I apologize for the confusion...                    4   \n",
       "4                                   [[CODE_BLOCK_0]]                    2   \n",
       "\n",
       "                                   CGS_Conversations language  \n",
       "0  [{'Prompt': '# Working set\n",
       "\n",
       "docs/README.md:\n",
       "``...       en  \n",
       "1  [{'Prompt': '# Working set\n",
       "\n",
       "src/frontend/compo...       en  \n",
       "2  [{'Prompt': 'You are Junior, an AI system aidi...       en  \n",
       "3  [{'Prompt': '# Working set\n",
       "\n",
       "src/execute/execut...       en  \n",
       "4  [{'Prompt': '# Working set\n",
       "\n",
       "src/frontend/App.j...       en  "
      ]
     },
     "execution_count": 19,
     "metadata": {},
     "output_type": "execute_result"
    }
   ],
   "source": [
    "final_df.head()"
   ]
  },
  {
   "cell_type": "markdown",
   "id": "9e852a25-2ab1-4181-9ea0-3bff80c31888",
   "metadata": {},
   "source": [
    "### Kaggle Dataset"
   ]
  },
  {
   "cell_type": "code",
   "execution_count": 20,
   "id": "4a32aa37-00e8-4a2e-ab8c-6b7964318ede",
   "metadata": {
    "execution": {
     "iopub.execute_input": "2024-05-03T05:29:33.736843Z",
     "iopub.status.busy": "2024-05-03T05:29:33.736501Z",
     "iopub.status.idle": "2024-05-03T05:29:39.165000Z",
     "shell.execute_reply": "2024-05-03T05:29:39.164352Z",
     "shell.execute_reply.started": "2024-05-03T05:29:33.736829Z"
    }
   },
   "outputs": [],
   "source": [
    "import json\n",
    "# Define the file path\n",
    "file_path = \"./ChatGPT-89k/chatlogs.jsonl\"  # Replace with the path to your JSONL file\n",
    "\n",
    "# Initialize an empty list to store the data\n",
    "data = []\n",
    "\n",
    "# Read the JSONL file line by line\n",
    "with open(file_path, 'r') as file:\n",
    "    for line in file:\n",
    "        # Parse the JSON object from each line\n",
    "        json_data = json.loads(line)\n",
    "        data.append(json_data)"
   ]
  },
  {
   "cell_type": "code",
   "execution_count": 21,
   "id": "4e8ed0eb-8747-49b8-93fe-a5b06b385c50",
   "metadata": {
    "execution": {
     "iopub.execute_input": "2024-05-03T05:29:39.165971Z",
     "iopub.status.busy": "2024-05-03T05:29:39.165833Z",
     "iopub.status.idle": "2024-05-03T05:29:39.283607Z",
     "shell.execute_reply": "2024-05-03T05:29:39.283097Z",
     "shell.execute_reply.started": "2024-05-03T05:29:39.165957Z"
    }
   },
   "outputs": [],
   "source": [
    "kaggle_df = pd.DataFrame(data)"
   ]
  },
  {
   "cell_type": "code",
   "execution_count": 22,
   "id": "05cf48bc-0faa-4ae5-8650-2d67b93d604f",
   "metadata": {
    "execution": {
     "iopub.execute_input": "2024-05-03T05:29:39.284437Z",
     "iopub.status.busy": "2024-05-03T05:29:39.284337Z",
     "iopub.status.idle": "2024-05-03T05:29:39.319714Z",
     "shell.execute_reply": "2024-05-03T05:29:39.319394Z",
     "shell.execute_reply.started": "2024-05-03T05:29:39.284427Z"
    }
   },
   "outputs": [],
   "source": [
    "kaggle_df['post_number'] = kaggle_df['post_number'].apply(lambda x: x[0])"
   ]
  },
  {
   "cell_type": "code",
   "execution_count": 23,
   "id": "becb4736-4a57-4760-a952-2c2f3fdea81b",
   "metadata": {
    "execution": {
     "iopub.execute_input": "2024-05-03T05:29:39.320435Z",
     "iopub.status.busy": "2024-05-03T05:29:39.320274Z",
     "iopub.status.idle": "2024-05-03T05:29:39.323851Z",
     "shell.execute_reply": "2024-05-03T05:29:39.323191Z",
     "shell.execute_reply.started": "2024-05-03T05:29:39.320425Z"
    }
   },
   "outputs": [],
   "source": [
    "# Function to extract Prompts and Answers\n",
    "def extract_prompts_and_answers_kaggle(conversations):\n",
    "    prompts = []\n",
    "    answers = []\n",
    "\n",
    "    if conversations:\n",
    "        for conv in conversations:\n",
    "            if conv['user'][0] == 'Anonymous':\n",
    "                prompts.append(conv['message'])\n",
    "            elif conv['user'][0] == 'Chat GPT':\n",
    "                answers.append(conv['message'])\n",
    "    \n",
    "    conv_len = len(prompts) + len(answers)\n",
    "    return pd.Series({\"Prompts\": prompts, \"Answers\": answers, \"Conversation_Length\": conv_len})"
   ]
  },
  {
   "cell_type": "code",
   "execution_count": 24,
   "id": "4a30d81f-79a1-404c-afd2-a4b5d092fbff",
   "metadata": {
    "execution": {
     "iopub.execute_input": "2024-05-03T05:29:39.324510Z",
     "iopub.status.busy": "2024-05-03T05:29:39.324392Z",
     "iopub.status.idle": "2024-05-03T05:29:48.678274Z",
     "shell.execute_reply": "2024-05-03T05:29:48.677588Z",
     "shell.execute_reply.started": "2024-05-03T05:29:39.324501Z"
    }
   },
   "outputs": [],
   "source": [
    "kaggle_df[[\"Prompts\", \"Answers\", \"Conversation_Length\"]] = kaggle_df.conversation.apply(extract_prompts_and_answers_kaggle)"
   ]
  },
  {
   "cell_type": "code",
   "execution_count": 25,
   "id": "86af5d7f-32a0-44c8-bec1-c8746336c3d8",
   "metadata": {
    "execution": {
     "iopub.execute_input": "2024-05-03T05:29:48.679885Z",
     "iopub.status.busy": "2024-05-03T05:29:48.679513Z",
     "iopub.status.idle": "2024-05-03T05:29:48.684623Z",
     "shell.execute_reply": "2024-05-03T05:29:48.684097Z",
     "shell.execute_reply.started": "2024-05-03T05:29:48.679865Z"
    }
   },
   "outputs": [],
   "source": [
    "software_engineering_keywords = [\n",
    "    \"software engineering\",\n",
    "    \"software development\",\n",
    "    \"programming\",\n",
    "    \"coding\",\n",
    "    \"computer science\",\n",
    "    \"algorithms\",\n",
    "    \"data structures\",\n",
    "    \"version control\",\n",
    "    \"agile methodology\",\n",
    "    \"scrum\",\n",
    "    \"kanban\",\n",
    "    \"continuous integration\",\n",
    "    \"continuous deployment\",\n",
    "    \"DevOps\",\n",
    "    \"unit testing\",\n",
    "    \"integration testing\",\n",
    "    \"system testing\",\n",
    "    \"debugging\",\n",
    "    \"refactoring\",\n",
    "    \"code review\",\n",
    "    \"software architecture\",\n",
    "    \"design patterns\",\n",
    "    \"object-oriented programming\",\n",
    "    \"functional programming\",\n",
    "    \"web development\",\n",
    "    \"mobile development\",\n",
    "    \"cloud computing\",\n",
    "    \"containerization\",\n",
    "    \"microservices\",\n",
    "    \"API design\",\n",
    "    \"database management\",\n",
    "    \"security\",\n",
    "    \"networking\",\n",
    "    \"deployment\",\n",
    "    \"maintenance\",\n",
    "    \"documentation\",\n",
    "    \"software lifecycle\",\n",
    "    \"requirements engineering\",\n",
    "    \"user experience design\",\n",
    "    \"user interface design\",\n",
    "    \"software project management\",\n",
    "    \"software quality assurance\",\n",
    "    \"software testing\",\n",
    "    \"software metrics\",\n",
    "    \"software tools\",\n",
    "    \"open source\",\n",
    "    \"proprietary software\",\n",
    "    \"software patents\",\n",
    "    \"software licensing\",\n",
    "    \"software industry\",\n",
    "    \"software trends\",\n",
    "    \"emerging technologies\",\n",
    "    \"artificial intelligence\",\n",
    "    \"machine learning\",\n",
    "    \"data science\",\n",
    "    \"blockchain\",\n",
    "    \"internet of things\",\n",
    "    \"cybersecurity\",\n",
    "    # Programming Languages\n",
    "    \"Python\",\n",
    "    \"Java\",\n",
    "    \"JavaScript\",\n",
    "    \"C++\",\n",
    "    \"C#\",\n",
    "    \"PHP\",\n",
    "    \"Ruby\",\n",
    "    \"Swift\",\n",
    "    \"Kotlin\",\n",
    "    \"SQL\",\n",
    "    \"TypeScript\",\n",
    "    \"Scala\",\n",
    "    \"Perl\",\n",
    "    \"Rust\",\n",
    "    \"Haskell\",\n",
    "    \"Objective-C\",\n",
    "    \"Dart\",\n",
    "    \"Lua\",\n",
    "    \"Assembly\",\n",
    "    \"VB.NET\",\n",
    "    \"MATLAB\",\n",
    "    \"Shell scripting\",\n",
    "    \"HTML\",\n",
    "    \"CSS\"\n",
    "]"
   ]
  },
  {
   "cell_type": "code",
   "execution_count": 26,
   "id": "80ded6bb-0a96-4667-8960-6804230ca2d0",
   "metadata": {
    "execution": {
     "iopub.execute_input": "2024-05-03T05:29:48.685815Z",
     "iopub.status.busy": "2024-05-03T05:29:48.685592Z",
     "iopub.status.idle": "2024-05-03T05:29:48.687938Z",
     "shell.execute_reply": "2024-05-03T05:29:48.687559Z",
     "shell.execute_reply.started": "2024-05-03T05:29:48.685802Z"
    }
   },
   "outputs": [],
   "source": [
    "def contains_keyword(text, keywords):\n",
    "    for keyword in keywords:\n",
    "        if keyword.lower() in text:\n",
    "            return True\n",
    "    return False"
   ]
  },
  {
   "cell_type": "code",
   "execution_count": 27,
   "id": "f7cb2c94-6fd1-4c46-b75c-44e7ee568502",
   "metadata": {
    "execution": {
     "iopub.execute_input": "2024-05-03T05:29:48.688993Z",
     "iopub.status.busy": "2024-05-03T05:29:48.688790Z",
     "iopub.status.idle": "2024-05-03T05:30:44.269268Z",
     "shell.execute_reply": "2024-05-03T05:30:44.268183Z",
     "shell.execute_reply.started": "2024-05-03T05:29:48.688965Z"
    }
   },
   "outputs": [],
   "source": [
    "filtered_df = kaggle_df[kaggle_df['Prompts'].apply(lambda x: contains_keyword(' '.join(x).lower().split(' '), software_engineering_keywords)) & \n",
    "                 kaggle_df['Answers'].apply(lambda x: contains_keyword(' '.join(x).lower().split(' '), software_engineering_keywords))]"
   ]
  },
  {
   "cell_type": "code",
   "execution_count": 28,
   "id": "1d869fdf-67f1-43a1-967a-a1e4ec46a3b9",
   "metadata": {
    "execution": {
     "iopub.execute_input": "2024-05-03T05:30:44.270575Z",
     "iopub.status.busy": "2024-05-03T05:30:44.270360Z",
     "iopub.status.idle": "2024-05-03T05:30:44.276111Z",
     "shell.execute_reply": "2024-05-03T05:30:44.275314Z",
     "shell.execute_reply.started": "2024-05-03T05:30:44.270554Z"
    }
   },
   "outputs": [],
   "source": [
    "filtered_df = filtered_df[(filtered_df.Conversation_Length % 2 == 0) & (filtered_df.Conversation_Length <= 16) & (filtered_df.Conversation_Length >=2)]"
   ]
  },
  {
   "cell_type": "code",
   "execution_count": 29,
   "id": "3ce298b1-d059-4a55-85c2-58c6d7e86ca4",
   "metadata": {
    "execution": {
     "iopub.execute_input": "2024-05-03T05:30:44.276902Z",
     "iopub.status.busy": "2024-05-03T05:30:44.276809Z",
     "iopub.status.idle": "2024-05-03T05:31:06.422156Z",
     "shell.execute_reply": "2024-05-03T05:31:06.421834Z",
     "shell.execute_reply.started": "2024-05-03T05:30:44.276892Z"
    }
   },
   "outputs": [],
   "source": [
    "filtered_df['language'] = filtered_df['Prompts'].apply(detect_language)"
   ]
  },
  {
   "cell_type": "code",
   "execution_count": 30,
   "id": "9e93cb14-042e-47b5-afa5-af661c1a93bc",
   "metadata": {
    "execution": {
     "iopub.execute_input": "2024-05-03T05:31:06.422660Z",
     "iopub.status.busy": "2024-05-03T05:31:06.422572Z",
     "iopub.status.idle": "2024-05-03T05:31:06.426330Z",
     "shell.execute_reply": "2024-05-03T05:31:06.426044Z",
     "shell.execute_reply.started": "2024-05-03T05:31:06.422650Z"
    }
   },
   "outputs": [],
   "source": [
    "filtered_df = filtered_df[filtered_df.language == 'en']"
   ]
  },
  {
   "cell_type": "code",
   "execution_count": 31,
   "id": "b26f01f8-75e4-4f85-bff0-30796d740a86",
   "metadata": {
    "execution": {
     "iopub.execute_input": "2024-05-03T05:31:06.427070Z",
     "iopub.status.busy": "2024-05-03T05:31:06.426976Z",
     "iopub.status.idle": "2024-05-03T05:31:06.429839Z",
     "shell.execute_reply": "2024-05-03T05:31:06.429250Z",
     "shell.execute_reply.started": "2024-05-03T05:31:06.427062Z"
    }
   },
   "outputs": [],
   "source": [
    "final_kaggle_df = filtered_df.sample(n=2200)"
   ]
  },
  {
   "cell_type": "markdown",
   "id": "02074f23-b072-45ff-b5dc-898d761adf95",
   "metadata": {},
   "source": [
    "### Merge Kaggle and DevGPT Data"
   ]
  },
  {
   "cell_type": "code",
   "execution_count": 32,
   "id": "c6ae382c-b5bb-492a-90b6-78bcf85093bf",
   "metadata": {
    "execution": {
     "iopub.execute_input": "2024-05-03T05:31:06.430601Z",
     "iopub.status.busy": "2024-05-03T05:31:06.430442Z",
     "iopub.status.idle": "2024-05-03T05:31:06.433690Z",
     "shell.execute_reply": "2024-05-03T05:31:06.433196Z",
     "shell.execute_reply.started": "2024-05-03T05:31:06.430585Z"
    }
   },
   "outputs": [
    {
     "data": {
      "text/plain": [
       "Index(['Type', 'RepoLanguage', 'CGS_URL', 'CGS_Status',\n",
       "       'CGS_DateOfConversation', 'CGS_DateOfAccess', 'CGS_Title',\n",
       "       'CGS_NumberOfPrompts', 'CGS_TokensOfPrompts', 'CGS_TokensOfAnswers',\n",
       "       'CGS_Model', 'Prompts', 'Answers', 'Conversation_Length',\n",
       "       'CGS_Conversations', 'language'],\n",
       "      dtype='object')"
      ]
     },
     "execution_count": 32,
     "metadata": {},
     "output_type": "execute_result"
    }
   ],
   "source": [
    "final_df.columns"
   ]
  },
  {
   "cell_type": "code",
   "execution_count": 33,
   "id": "1682c5f1-7266-4f60-80b0-7faaf40eca9c",
   "metadata": {
    "execution": {
     "iopub.execute_input": "2024-05-03T05:31:06.434810Z",
     "iopub.status.busy": "2024-05-03T05:31:06.434576Z",
     "iopub.status.idle": "2024-05-03T05:31:06.438376Z",
     "shell.execute_reply": "2024-05-03T05:31:06.438041Z",
     "shell.execute_reply.started": "2024-05-03T05:31:06.434794Z"
    }
   },
   "outputs": [
    {
     "data": {
      "text/plain": [
       "Index(['post_number', 'conversation', 'Prompts', 'Answers',\n",
       "       'Conversation_Length', 'language'],\n",
       "      dtype='object')"
      ]
     },
     "execution_count": 33,
     "metadata": {},
     "output_type": "execute_result"
    }
   ],
   "source": [
    "final_kaggle_df.columns"
   ]
  },
  {
   "cell_type": "code",
   "execution_count": 34,
   "id": "327ece04-d5ed-4eee-8cf4-80dd37990a51",
   "metadata": {
    "execution": {
     "iopub.execute_input": "2024-05-03T05:31:06.439321Z",
     "iopub.status.busy": "2024-05-03T05:31:06.438959Z",
     "iopub.status.idle": "2024-05-03T05:31:06.447536Z",
     "shell.execute_reply": "2024-05-03T05:31:06.447214Z",
     "shell.execute_reply.started": "2024-05-03T05:31:06.439305Z"
    }
   },
   "outputs": [],
   "source": [
    "merged_dataset = pd.concat([final_df[['Prompts', 'Answers', 'Conversation_Length']], final_kaggle_df[['Prompts', 'Answers', 'Conversation_Length']]], axis=0)"
   ]
  },
  {
   "cell_type": "code",
   "execution_count": 35,
   "id": "477a7b12-6536-4e3a-8294-b6fa7a131112",
   "metadata": {
    "execution": {
     "iopub.execute_input": "2024-05-03T05:31:06.448521Z",
     "iopub.status.busy": "2024-05-03T05:31:06.448236Z",
     "iopub.status.idle": "2024-05-03T05:31:06.453252Z",
     "shell.execute_reply": "2024-05-03T05:31:06.452694Z",
     "shell.execute_reply.started": "2024-05-03T05:31:06.448504Z"
    }
   },
   "outputs": [],
   "source": [
    "final_dataset = merged_dataset.reset_index().drop(columns=[\"index\"]).reset_index().rename(columns={\"index\": \"chat_id\"}).sample(n=1000)"
   ]
  },
  {
   "cell_type": "markdown",
   "id": "1c46a036-bd5f-47c0-8248-c5e062d8ddfd",
   "metadata": {},
   "source": [
    "### RQ1"
   ]
  },
  {
   "cell_type": "code",
   "execution_count": 36,
   "id": "930a28a1-b039-4d0a-aa19-440a5e56b086",
   "metadata": {
    "execution": {
     "iopub.execute_input": "2024-05-03T05:31:06.454123Z",
     "iopub.status.busy": "2024-05-03T05:31:06.453981Z",
     "iopub.status.idle": "2024-05-03T05:31:06.456547Z",
     "shell.execute_reply": "2024-05-03T05:31:06.456063Z",
     "shell.execute_reply.started": "2024-05-03T05:31:06.454113Z"
    }
   },
   "outputs": [],
   "source": [
    "rq1 = final_dataset.copy()"
   ]
  },
  {
   "cell_type": "code",
   "execution_count": 37,
   "id": "d34f08af-f0e6-4bfc-8b27-8a71d41dae19",
   "metadata": {
    "execution": {
     "iopub.execute_input": "2024-05-03T05:31:06.457362Z",
     "iopub.status.busy": "2024-05-03T05:31:06.457232Z",
     "iopub.status.idle": "2024-05-03T05:31:06.465985Z",
     "shell.execute_reply": "2024-05-03T05:31:06.465569Z",
     "shell.execute_reply.started": "2024-05-03T05:31:06.457347Z"
    }
   },
   "outputs": [],
   "source": [
    "rq1['First_Prompt'] = [prompt[0] if prompt else '' for prompt in final_dataset.Prompts]"
   ]
  },
  {
   "cell_type": "code",
   "execution_count": 38,
   "id": "09158299-9357-4b7e-9637-4288d437ba42",
   "metadata": {
    "execution": {
     "iopub.execute_input": "2024-05-03T05:31:06.466845Z",
     "iopub.status.busy": "2024-05-03T05:31:06.466598Z",
     "iopub.status.idle": "2024-05-03T05:31:06.509880Z",
     "shell.execute_reply": "2024-05-03T05:31:06.509275Z",
     "shell.execute_reply.started": "2024-05-03T05:31:06.466832Z"
    }
   },
   "outputs": [],
   "source": [
    "rq1[[\"chat_id\", \"First_Prompt\"]].to_csv(\"RQ1.csv\", index=False)"
   ]
  },
  {
   "cell_type": "markdown",
   "id": "c62dbdad-b524-42d5-8fcb-eb88dbfad7b6",
   "metadata": {},
   "source": [
    "### RQ2"
   ]
  },
  {
   "cell_type": "code",
   "execution_count": 39,
   "id": "8b966adc-6081-432e-97b3-6a9ee470d55b",
   "metadata": {
    "execution": {
     "iopub.execute_input": "2024-05-03T05:31:06.511230Z",
     "iopub.status.busy": "2024-05-03T05:31:06.510836Z",
     "iopub.status.idle": "2024-05-03T05:31:06.513751Z",
     "shell.execute_reply": "2024-05-03T05:31:06.513283Z",
     "shell.execute_reply.started": "2024-05-03T05:31:06.511218Z"
    }
   },
   "outputs": [],
   "source": [
    "rq2 = final_dataset.copy()"
   ]
  },
  {
   "cell_type": "code",
   "execution_count": 40,
   "id": "7855db51-d86e-4b79-be9e-472e02c33325",
   "metadata": {
    "execution": {
     "iopub.execute_input": "2024-05-03T05:31:06.520197Z",
     "iopub.status.busy": "2024-05-03T05:31:06.519969Z",
     "iopub.status.idle": "2024-05-03T05:31:06.531115Z",
     "shell.execute_reply": "2024-05-03T05:31:06.530594Z",
     "shell.execute_reply.started": "2024-05-03T05:31:06.520181Z"
    }
   },
   "outputs": [],
   "source": [
    "rq2['NoOfTurns'] = rq2.apply(lambda x: (len(x.Prompts) + len(x.Answers))/2, axis=1)"
   ]
  },
  {
   "cell_type": "code",
   "execution_count": 41,
   "id": "74133d5e-19c8-4e45-9453-5ff9bc9c1b37",
   "metadata": {
    "execution": {
     "iopub.execute_input": "2024-05-03T05:31:06.531891Z",
     "iopub.status.busy": "2024-05-03T05:31:06.531782Z",
     "iopub.status.idle": "2024-05-03T05:31:06.535336Z",
     "shell.execute_reply": "2024-05-03T05:31:06.534947Z",
     "shell.execute_reply.started": "2024-05-03T05:31:06.531882Z"
    }
   },
   "outputs": [],
   "source": [
    "rq2 = rq2[(rq2.NoOfTurns >= 2) & (rq2.NoOfTurns <= 8)]"
   ]
  },
  {
   "cell_type": "code",
   "execution_count": 42,
   "id": "9494e0be-5624-4f4f-af02-48e6c9f4e8d6",
   "metadata": {
    "execution": {
     "iopub.execute_input": "2024-05-03T05:31:06.536113Z",
     "iopub.status.busy": "2024-05-03T05:31:06.535995Z",
     "iopub.status.idle": "2024-05-03T05:31:06.546601Z",
     "shell.execute_reply": "2024-05-03T05:31:06.546102Z",
     "shell.execute_reply.started": "2024-05-03T05:31:06.536104Z"
    }
   },
   "outputs": [],
   "source": [
    "rq2 = rq2.explode('Prompts')\n",
    "rq2['prompt_no'] = rq2.groupby('chat_id').cumcount() + 1"
   ]
  },
  {
   "cell_type": "code",
   "execution_count": 43,
   "id": "86924e17-c183-404e-ae4a-926047dda9c5",
   "metadata": {
    "execution": {
     "iopub.execute_input": "2024-05-03T05:31:06.547406Z",
     "iopub.status.busy": "2024-05-03T05:31:06.547240Z",
     "iopub.status.idle": "2024-05-03T05:31:06.571298Z",
     "shell.execute_reply": "2024-05-03T05:31:06.570875Z",
     "shell.execute_reply.started": "2024-05-03T05:31:06.547396Z"
    }
   },
   "outputs": [],
   "source": [
    "rq2[[\"chat_id\", \"Prompts\", \"prompt_no\"]].to_csv('RQ2.csv', index=False)"
   ]
  },
  {
   "cell_type": "code",
   "execution_count": null,
   "id": "922b894c-1c22-4299-9e7a-f872c30b725b",
   "metadata": {},
   "outputs": [],
   "source": []
  }
 ],
 "metadata": {
  "kernelspec": {
   "display_name": "Python 3 (ipykernel)",
   "language": "python",
   "name": "python3"
  },
  "language_info": {
   "codemirror_mode": {
    "name": "ipython",
    "version": 3
   },
   "file_extension": ".py",
   "mimetype": "text/x-python",
   "name": "python",
   "nbconvert_exporter": "python",
   "pygments_lexer": "ipython3",
   "version": "3.10.14"
  }
 },
 "nbformat": 4,
 "nbformat_minor": 5
}
